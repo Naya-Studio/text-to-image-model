{
 "cells": [
  {
   "cell_type": "code",
   "execution_count": null,
   "metadata": {},
   "outputs": [],
   "source": [
    "### DALL-E-mini (text-to-images)"
   ]
  },
  {
   "cell_type": "code",
   "execution_count": null,
   "metadata": {},
   "outputs": [],
   "source": [
    "## Google colab notebook\n",
    "# https://colab.research.google.com/github/borisdayma/dalle-mini/blob/main/tools/inference/inference_pipeline.ipynb#scrollTo=SDjEx9JxR3v8"
   ]
  },
  {
   "cell_type": "code",
   "execution_count": null,
   "metadata": {},
   "outputs": [],
   "source": [
    "## wandb\n",
    "# https://wandb.ai/authorize\n",
    "# 6d211aaa02fedb5b7386396c005eeca24f6ed4db"
   ]
  },
  {
   "cell_type": "markdown",
   "metadata": {},
   "source": [
    "# From DALL-E-mini guide"
   ]
  },
  {
   "cell_type": "code",
   "execution_count": 1,
   "metadata": {},
   "outputs": [
    {
     "name": "stdout",
     "output_type": "stream",
     "text": [
      "Collecting vqgan-jax@ git+https://github.com/patil-suraj/vqgan-jax.git@10ef240f8ace869e437f3c32d14898f61512db12\n",
      "  Cloning https://github.com/patil-suraj/vqgan-jax.git (to revision 10ef240f8ace869e437f3c32d14898f61512db12) to /private/var/folders/bb/z4nc_k_s4kv89y0pr4s_cx_00000gn/T/pip-install-r6wdhlml/vqgan-jax_cdb2edbb599e424095daccbe4cc034d1\n",
      "  Running command git clone --filter=blob:none --quiet https://github.com/patil-suraj/vqgan-jax.git /private/var/folders/bb/z4nc_k_s4kv89y0pr4s_cx_00000gn/T/pip-install-r6wdhlml/vqgan-jax_cdb2edbb599e424095daccbe4cc034d1\n",
      "  Running command git rev-parse -q --verify 'sha^10ef240f8ace869e437f3c32d14898f61512db12'\n",
      "  Running command git fetch -q https://github.com/patil-suraj/vqgan-jax.git 10ef240f8ace869e437f3c32d14898f61512db12\n",
      "  Resolved https://github.com/patil-suraj/vqgan-jax.git to commit 10ef240f8ace869e437f3c32d14898f61512db12\n",
      "  Preparing metadata (setup.py) ... \u001b[?25ldone\n",
      "\u001b[?25hRequirement already satisfied: dalle-mini in /Users/Alex/opt/anaconda3/lib/python3.7/site-packages (from -r requirements.txt (line 1)) (0.1.1)\n",
      "Requirement already satisfied: chex==0.1.3 in /Users/Alex/opt/anaconda3/lib/python3.7/site-packages (from -r requirements.txt (line 2)) (0.1.3)\n",
      "Requirement already satisfied: jax==0.3.14 in /Users/Alex/opt/anaconda3/lib/python3.7/site-packages (from -r requirements.txt (line 3)) (0.3.14)\n",
      "Requirement already satisfied: jaxlib==0.3.14 in /Users/Alex/opt/anaconda3/lib/python3.7/site-packages (from -r requirements.txt (line 4)) (0.3.14)\n",
      "Requirement already satisfied: numpy==1.21.6 in /Users/Alex/opt/anaconda3/lib/python3.7/site-packages (from -r requirements.txt (line 5)) (1.21.6)\n",
      "Requirement already satisfied: protobuf==3.17.3 in /Users/Alex/opt/anaconda3/lib/python3.7/site-packages (from -r requirements.txt (line 6)) (3.17.3)\n",
      "Requirement already satisfied: requests==2.23.0 in /Users/Alex/opt/anaconda3/lib/python3.7/site-packages (from -r requirements.txt (line 7)) (2.23.0)\n",
      "Requirement already satisfied: requests-oauthlib==1.3.1 in /Users/Alex/opt/anaconda3/lib/python3.7/site-packages (from -r requirements.txt (line 8)) (1.3.1)\n",
      "Requirement already satisfied: scipy==1.7.3 in /Users/Alex/opt/anaconda3/lib/python3.7/site-packages (from -r requirements.txt (line 9)) (1.7.3)\n",
      "Requirement already satisfied: wandb==0.12.21 in /Users/Alex/opt/anaconda3/lib/python3.7/site-packages (from -r requirements.txt (line 11)) (0.12.21)\n",
      "Requirement already satisfied: absl-py>=0.9.0 in /Users/Alex/opt/anaconda3/lib/python3.7/site-packages (from chex==0.1.3->-r requirements.txt (line 2)) (0.11.0)\n",
      "Requirement already satisfied: dm-tree>=0.1.5 in /Users/Alex/opt/anaconda3/lib/python3.7/site-packages (from chex==0.1.3->-r requirements.txt (line 2)) (0.1.7)\n",
      "Requirement already satisfied: toolz>=0.9.0 in /Users/Alex/opt/anaconda3/lib/python3.7/site-packages (from chex==0.1.3->-r requirements.txt (line 2)) (0.10.0)\n",
      "Requirement already satisfied: etils[epath] in /Users/Alex/opt/anaconda3/lib/python3.7/site-packages (from jax==0.3.14->-r requirements.txt (line 3)) (0.6.0)\n",
      "Requirement already satisfied: typing-extensions in /Users/Alex/opt/anaconda3/lib/python3.7/site-packages (from jax==0.3.14->-r requirements.txt (line 3)) (4.3.0)\n",
      "Requirement already satisfied: opt-einsum in /Users/Alex/opt/anaconda3/lib/python3.7/site-packages (from jax==0.3.14->-r requirements.txt (line 3)) (3.3.0)\n",
      "Requirement already satisfied: flatbuffers<3.0,>=1.12 in /Users/Alex/opt/anaconda3/lib/python3.7/site-packages (from jaxlib==0.3.14->-r requirements.txt (line 4)) (1.12)\n",
      "Requirement already satisfied: six>=1.9 in /Users/Alex/opt/anaconda3/lib/python3.7/site-packages (from protobuf==3.17.3->-r requirements.txt (line 6)) (1.16.0)\n",
      "Requirement already satisfied: idna<3,>=2.5 in /Users/Alex/opt/anaconda3/lib/python3.7/site-packages (from requests==2.23.0->-r requirements.txt (line 7)) (2.8)\n",
      "Requirement already satisfied: urllib3!=1.25.0,!=1.25.1,<1.26,>=1.21.1 in /Users/Alex/opt/anaconda3/lib/python3.7/site-packages (from requests==2.23.0->-r requirements.txt (line 7)) (1.25.8)\n",
      "Requirement already satisfied: chardet<4,>=3.0.2 in /Users/Alex/opt/anaconda3/lib/python3.7/site-packages (from requests==2.23.0->-r requirements.txt (line 7)) (3.0.4)\n",
      "Requirement already satisfied: certifi>=2017.4.17 in /Users/Alex/opt/anaconda3/lib/python3.7/site-packages (from requests==2.23.0->-r requirements.txt (line 7)) (2021.10.8)\n",
      "Requirement already satisfied: oauthlib>=3.0.0 in /Users/Alex/opt/anaconda3/lib/python3.7/site-packages (from requests-oauthlib==1.3.1->-r requirements.txt (line 8)) (3.1.0)\n",
      "Requirement already satisfied: GitPython>=1.0.0 in /Users/Alex/opt/anaconda3/lib/python3.7/site-packages (from wandb==0.12.21->-r requirements.txt (line 11)) (3.1.27)\n",
      "Requirement already satisfied: Click!=8.0.0,>=7.0 in /Users/Alex/opt/anaconda3/lib/python3.7/site-packages (from wandb==0.12.21->-r requirements.txt (line 11)) (7.0)\n",
      "Requirement already satisfied: docker-pycreds>=0.4.0 in /Users/Alex/opt/anaconda3/lib/python3.7/site-packages (from wandb==0.12.21->-r requirements.txt (line 11)) (0.4.0)\n",
      "Requirement already satisfied: PyYAML in /Users/Alex/opt/anaconda3/lib/python3.7/site-packages (from wandb==0.12.21->-r requirements.txt (line 11)) (6.0)\n",
      "Requirement already satisfied: sentry-sdk>=1.0.0 in /Users/Alex/opt/anaconda3/lib/python3.7/site-packages (from wandb==0.12.21->-r requirements.txt (line 11)) (1.8.0)\n",
      "Requirement already satisfied: setproctitle in /Users/Alex/opt/anaconda3/lib/python3.7/site-packages (from wandb==0.12.21->-r requirements.txt (line 11)) (1.3.0)\n",
      "Requirement already satisfied: psutil>=5.0.0 in /Users/Alex/opt/anaconda3/lib/python3.7/site-packages (from wandb==0.12.21->-r requirements.txt (line 11)) (5.6.7)\n",
      "Requirement already satisfied: setuptools in /Users/Alex/opt/anaconda3/lib/python3.7/site-packages (from wandb==0.12.21->-r requirements.txt (line 11)) (46.0.0.post20200309)\n",
      "Requirement already satisfied: shortuuid>=0.5.0 in /Users/Alex/opt/anaconda3/lib/python3.7/site-packages (from wandb==0.12.21->-r requirements.txt (line 11)) (1.0.9)\n",
      "Requirement already satisfied: pathtools in /Users/Alex/opt/anaconda3/lib/python3.7/site-packages (from wandb==0.12.21->-r requirements.txt (line 11)) (0.1.2)\n",
      "Requirement already satisfied: promise<3,>=2.0 in /Users/Alex/opt/anaconda3/lib/python3.7/site-packages (from wandb==0.12.21->-r requirements.txt (line 11)) (2.3)\n",
      "Requirement already satisfied: flax in /Users/Alex/opt/anaconda3/lib/python3.7/site-packages (from dalle-mini->-r requirements.txt (line 1)) (0.5.3)\n",
      "Requirement already satisfied: unidecode in /Users/Alex/opt/anaconda3/lib/python3.7/site-packages (from dalle-mini->-r requirements.txt (line 1)) (1.3.4)\n",
      "Requirement already satisfied: pillow in /Users/Alex/opt/anaconda3/lib/python3.7/site-packages (from dalle-mini->-r requirements.txt (line 1)) (9.0.0)\n",
      "Requirement already satisfied: einops in /Users/Alex/opt/anaconda3/lib/python3.7/site-packages (from dalle-mini->-r requirements.txt (line 1)) (0.4.1)\n",
      "Requirement already satisfied: ftfy in /Users/Alex/opt/anaconda3/lib/python3.7/site-packages (from dalle-mini->-r requirements.txt (line 1)) (6.1.1)\n",
      "Requirement already satisfied: transformers in /Users/Alex/opt/anaconda3/lib/python3.7/site-packages (from dalle-mini->-r requirements.txt (line 1)) (4.21.0)\n",
      "Requirement already satisfied: emoji in /Users/Alex/opt/anaconda3/lib/python3.7/site-packages (from dalle-mini->-r requirements.txt (line 1)) (2.0.0)\n",
      "Requirement already satisfied: gitdb<5,>=4.0.1 in /Users/Alex/opt/anaconda3/lib/python3.7/site-packages (from GitPython>=1.0.0->wandb==0.12.21->-r requirements.txt (line 11)) (4.0.9)\n",
      "Requirement already satisfied: zipp in /Users/Alex/opt/anaconda3/lib/python3.7/site-packages (from etils[epath]->jax==0.3.14->-r requirements.txt (line 3)) (3.8.1)\n",
      "Requirement already satisfied: importlib_resources in /Users/Alex/opt/anaconda3/lib/python3.7/site-packages (from etils[epath]->jax==0.3.14->-r requirements.txt (line 3)) (5.9.0)\n",
      "Requirement already satisfied: msgpack in /Users/Alex/opt/anaconda3/lib/python3.7/site-packages (from flax->dalle-mini->-r requirements.txt (line 1)) (0.6.1)\n",
      "Requirement already satisfied: matplotlib in /Users/Alex/opt/anaconda3/lib/python3.7/site-packages (from flax->dalle-mini->-r requirements.txt (line 1)) (3.5.1)\n",
      "Requirement already satisfied: rich~=11.1 in /Users/Alex/opt/anaconda3/lib/python3.7/site-packages (from flax->dalle-mini->-r requirements.txt (line 1)) (11.2.0)\n",
      "Requirement already satisfied: tensorstore in /Users/Alex/opt/anaconda3/lib/python3.7/site-packages (from flax->dalle-mini->-r requirements.txt (line 1)) (0.1.21)\n",
      "Requirement already satisfied: optax in /Users/Alex/opt/anaconda3/lib/python3.7/site-packages (from flax->dalle-mini->-r requirements.txt (line 1)) (0.1.3)\n",
      "Requirement already satisfied: wcwidth>=0.2.5 in /Users/Alex/opt/anaconda3/lib/python3.7/site-packages (from ftfy->dalle-mini->-r requirements.txt (line 1)) (0.2.5)\n"
     ]
    },
    {
     "name": "stdout",
     "output_type": "stream",
     "text": [
      "Requirement already satisfied: packaging>=20.0 in /Users/Alex/opt/anaconda3/lib/python3.7/site-packages (from transformers->dalle-mini->-r requirements.txt (line 1)) (21.3)\n",
      "Requirement already satisfied: tqdm>=4.27 in /Users/Alex/opt/anaconda3/lib/python3.7/site-packages (from transformers->dalle-mini->-r requirements.txt (line 1)) (4.42.1)\n",
      "Requirement already satisfied: tokenizers!=0.11.3,<0.13,>=0.11.1 in /Users/Alex/opt/anaconda3/lib/python3.7/site-packages (from transformers->dalle-mini->-r requirements.txt (line 1)) (0.12.1)\n",
      "Requirement already satisfied: regex!=2019.12.17 in /Users/Alex/opt/anaconda3/lib/python3.7/site-packages (from transformers->dalle-mini->-r requirements.txt (line 1)) (2020.10.15)\n",
      "Requirement already satisfied: huggingface-hub<1.0,>=0.1.0 in /Users/Alex/opt/anaconda3/lib/python3.7/site-packages (from transformers->dalle-mini->-r requirements.txt (line 1)) (0.8.1)\n",
      "Requirement already satisfied: filelock in /Users/Alex/opt/anaconda3/lib/python3.7/site-packages (from transformers->dalle-mini->-r requirements.txt (line 1)) (3.0.12)\n",
      "Requirement already satisfied: importlib-metadata in /Users/Alex/opt/anaconda3/lib/python3.7/site-packages (from transformers->dalle-mini->-r requirements.txt (line 1)) (2.0.0)\n",
      "Requirement already satisfied: smmap<6,>=3.0.1 in /Users/Alex/opt/anaconda3/lib/python3.7/site-packages (from gitdb<5,>=4.0.1->GitPython>=1.0.0->wandb==0.12.21->-r requirements.txt (line 11)) (5.0.0)\n",
      "Requirement already satisfied: pyparsing!=3.0.5,>=2.0.2 in /Users/Alex/opt/anaconda3/lib/python3.7/site-packages (from packaging>=20.0->transformers->dalle-mini->-r requirements.txt (line 1)) (3.0.6)\n",
      "Requirement already satisfied: commonmark<0.10.0,>=0.9.0 in /Users/Alex/opt/anaconda3/lib/python3.7/site-packages (from rich~=11.1->flax->dalle-mini->-r requirements.txt (line 1)) (0.9.1)\n",
      "Requirement already satisfied: pygments<3.0.0,>=2.6.0 in /Users/Alex/opt/anaconda3/lib/python3.7/site-packages (from rich~=11.1->flax->dalle-mini->-r requirements.txt (line 1)) (2.12.0)\n",
      "Requirement already satisfied: colorama<0.5.0,>=0.4.0 in /Users/Alex/opt/anaconda3/lib/python3.7/site-packages (from rich~=11.1->flax->dalle-mini->-r requirements.txt (line 1)) (0.4.3)\n",
      "Requirement already satisfied: python-dateutil>=2.7 in /Users/Alex/opt/anaconda3/lib/python3.7/site-packages (from matplotlib->flax->dalle-mini->-r requirements.txt (line 1)) (2.8.2)\n",
      "Requirement already satisfied: fonttools>=4.22.0 in /Users/Alex/opt/anaconda3/lib/python3.7/site-packages (from matplotlib->flax->dalle-mini->-r requirements.txt (line 1)) (4.28.5)\n",
      "Requirement already satisfied: cycler>=0.10 in /Users/Alex/opt/anaconda3/lib/python3.7/site-packages (from matplotlib->flax->dalle-mini->-r requirements.txt (line 1)) (0.11.0)\n",
      "Requirement already satisfied: kiwisolver>=1.0.1 in /Users/Alex/opt/anaconda3/lib/python3.7/site-packages (from matplotlib->flax->dalle-mini->-r requirements.txt (line 1)) (1.3.2)\n",
      "\n",
      "\u001b[1m[\u001b[0m\u001b[34;49mnotice\u001b[0m\u001b[1;39;49m]\u001b[0m\u001b[39;49m A new release of pip available: \u001b[0m\u001b[31;49m22.2\u001b[0m\u001b[39;49m -> \u001b[0m\u001b[32;49m22.2.2\u001b[0m\n",
      "\u001b[1m[\u001b[0m\u001b[34;49mnotice\u001b[0m\u001b[1;39;49m]\u001b[0m\u001b[39;49m To update, run: \u001b[0m\u001b[32;49mpip3.7 install --upgrade pip\u001b[0m\n"
     ]
    }
   ],
   "source": [
    "!python3.7 -m pip install -r requirements.txt"
   ]
  },
  {
   "cell_type": "code",
   "execution_count": 2,
   "metadata": {},
   "outputs": [],
   "source": [
    "## Install required libraries\n",
    "\n",
    "# !python3.7 -m pip install -q dalle-mini\n",
    "# !python3.7 -m pip install -q git+https://github.com/patil-suraj/vqgan-jax.git\n"
   ]
  },
  {
   "cell_type": "code",
   "execution_count": 3,
   "metadata": {},
   "outputs": [],
   "source": [
    "# Model references\n",
    "\n",
    "# dalle-mega\n",
    "DALLE_MODEL = \"dalle-mini/dalle-mini/mega-1-fp16:latest\"  # can be wandb artifact or 🤗 Hub or local folder or google bucket\n",
    "DALLE_COMMIT_ID = None\n",
    "\n",
    "# if the notebook crashes too often you can use dalle-mini instead by uncommenting below line\n",
    "DALLE_MODEL = \"dalle-mini/dalle-mini/mini-1:v0\"\n",
    "\n",
    "# VQGAN model\n",
    "VQGAN_REPO = \"dalle-mini/vqgan_imagenet_f16_16384\"\n",
    "VQGAN_COMMIT_ID = \"e93a26e7707683d349bf5d5c41c5b0ef69b677a9\"\n"
   ]
  },
  {
   "cell_type": "code",
   "execution_count": 4,
   "metadata": {},
   "outputs": [
    {
     "data": {
      "text/plain": [
       "1"
      ]
     },
     "execution_count": 4,
     "metadata": {},
     "output_type": "execute_result"
    }
   ],
   "source": [
    "import jax\n",
    "import jax.numpy as jnp\n",
    "\n",
    "# check how many devices are available\n",
    "jax.local_device_count()\n"
   ]
  },
  {
   "cell_type": "code",
   "execution_count": 5,
   "metadata": {},
   "outputs": [
    {
     "name": "stderr",
     "output_type": "stream",
     "text": [
      "wandb: Downloading large artifact mini-1:v0, 1673.43MB. 7 files... Done. 0:0:12.4\n"
     ]
    }
   ],
   "source": [
    "# Load models & tokenizer\n",
    "from dalle_mini import DalleBart, DalleBartProcessor\n",
    "from vqgan_jax.modeling_flax_vqgan import VQModel\n",
    "from transformers import CLIPProcessor, FlaxCLIPModel\n",
    "\n",
    "# Load dalle-mini\n",
    "model, params = DalleBart.from_pretrained(\n",
    "    DALLE_MODEL, revision=DALLE_COMMIT_ID, dtype=jnp.float16, _do_init=False\n",
    ")\n",
    "\n",
    "# Load VQGAN\n",
    "vqgan, vqgan_params = VQModel.from_pretrained(\n",
    "    VQGAN_REPO, revision=VQGAN_COMMIT_ID, _do_init=False\n",
    ")\n"
   ]
  },
  {
   "cell_type": "code",
   "execution_count": 6,
   "metadata": {},
   "outputs": [],
   "source": [
    "## Model parameters are replicated on each device for faster inference.\n",
    "\n",
    "from flax.jax_utils import replicate\n",
    "\n",
    "params = replicate(params)\n",
    "vqgan_params = replicate(vqgan_params)\n"
   ]
  },
  {
   "cell_type": "code",
   "execution_count": 7,
   "metadata": {},
   "outputs": [],
   "source": [
    "## Model functions are compiled and parallelized to take advantage of multiple devices.\n",
    "\n",
    "from functools import partial\n",
    "\n",
    "# model inference\n",
    "@partial(jax.pmap, axis_name=\"batch\", static_broadcasted_argnums=(3, 4, 5, 6))\n",
    "def p_generate(\n",
    "    tokenized_prompt, key, params, top_k, top_p, temperature, condition_scale\n",
    "):\n",
    "    return model.generate(\n",
    "        **tokenized_prompt,\n",
    "        prng_key=key,\n",
    "        params=params,\n",
    "        top_k=top_k,\n",
    "        top_p=top_p,\n",
    "        temperature=temperature,\n",
    "        condition_scale=condition_scale,\n",
    "    )\n",
    "\n",
    "\n",
    "# decode image\n",
    "@partial(jax.pmap, axis_name=\"batch\")\n",
    "def p_decode(indices, params):\n",
    "    return vqgan.decode_code(indices, params=params)\n"
   ]
  },
  {
   "cell_type": "code",
   "execution_count": 8,
   "metadata": {},
   "outputs": [],
   "source": [
    "## Keys are passed to the model on each device to generate unique inference per device.\n",
    "\n",
    "import random\n",
    "\n",
    "# create a random key\n",
    "seed = random.randint(0, 2**32 - 1)\n",
    "key = jax.random.PRNGKey(seed)\n"
   ]
  },
  {
   "cell_type": "code",
   "execution_count": 9,
   "metadata": {},
   "outputs": [
    {
     "name": "stderr",
     "output_type": "stream",
     "text": [
      "wandb: Downloading large artifact mini-1:v0, 1673.43MB. 7 files... Done. 0:0:13.3\n"
     ]
    }
   ],
   "source": [
    "## model requires processing prompts.\n",
    "\n",
    "from dalle_mini import DalleBartProcessor\n",
    "\n",
    "processor = DalleBartProcessor.from_pretrained(DALLE_MODEL, revision=DALLE_COMMIT_ID)\n"
   ]
  },
  {
   "cell_type": "code",
   "execution_count": 10,
   "metadata": {},
   "outputs": [],
   "source": [
    "## Making prompts\n",
    "\n",
    "prompts = [\n",
    "    \"velcro beer\",\n",
    "]\n",
    "\n",
    "tokenized_prompts = processor(prompts)\n",
    "tokenized_prompt = replicate(tokenized_prompts)\n",
    "\n"
   ]
  },
  {
   "cell_type": "code",
   "execution_count": null,
   "metadata": {},
   "outputs": [
    {
     "name": "stdout",
     "output_type": "stream",
     "text": [
      "Prompts: ['velcro beer']\n",
      "\n"
     ]
    },
    {
     "data": {
      "application/vnd.jupyter.widget-view+json": {
       "model_id": "1b14fd9597664b6a80d209ea410fa2fd",
       "version_major": 2,
       "version_minor": 0
      },
      "text/plain": [
       "HBox(children=(FloatProgress(value=0.0, max=1.0), HTML(value='')))"
      ]
     },
     "metadata": {},
     "output_type": "display_data"
    },
    {
     "name": "stdout",
     "output_type": "stream",
     "text": [
      "encoding images\n"
     ]
    },
    {
     "name": "stderr",
     "output_type": "stream",
     "text": [
      "/Users/Alex/opt/anaconda3/lib/python3.7/site-packages/jax/_src/ops/scatter.py:90: FutureWarning: scatter inputs have incompatible types: cannot safely cast value from dtype=float16 to dtype=float32. In future JAX releases this will result in an error.\n",
      "  FutureWarning)\n"
     ]
    }
   ],
   "source": [
    "## Generate images using dalle-mini model and decode them with the VQGAN.\n",
    "\n",
    "# number of predictions per prompt\n",
    "n_predictions = 1\n",
    "\n",
    "# We can customize generation parameters (see https://huggingface.co/blog/how-to-generate)\n",
    "gen_top_k = None\n",
    "gen_top_p = None\n",
    "temperature = None\n",
    "cond_scale = 10.0\n",
    "\n",
    "from flax.training.common_utils import shard_prng_key\n",
    "import numpy as np\n",
    "from PIL import Image\n",
    "from tqdm.notebook import trange\n",
    "\n",
    "print(f\"Prompts: {prompts}\\n\")\n",
    "# generate images\n",
    "images = []\n",
    "for i in trange(max(n_predictions // jax.device_count(), 1)):\n",
    "    # get a new key\n",
    "    key, subkey = jax.random.split(key)\n",
    "    # generate images\n",
    "    print('encoding images')\n",
    "    encoded_images = p_generate(\n",
    "        tokenized_prompt,\n",
    "        shard_prng_key(subkey),\n",
    "        params,\n",
    "        gen_top_k,\n",
    "        gen_top_p,\n",
    "        temperature,\n",
    "        cond_scale,\n",
    "    )\n",
    "    # remove BOS\n",
    "    print('remove bos')\n",
    "    encoded_images = encoded_images.sequences[..., 1:]\n",
    "    # decode images\n",
    "    print('decoding images')\n",
    "    decoded_images = p_decode(encoded_images, vqgan_params)\n",
    "    decoded_images = decoded_images.clip(0.0, 1.0).reshape((-1, 256, 256, 3))\n",
    "    for decoded_img in decoded_images:\n",
    "        img = Image.fromarray(np.asarray(decoded_img * 255, dtype=np.uint8))\n",
    "        images.append(img)\n",
    "        display(img)\n",
    "        print()\n"
   ]
  },
  {
   "cell_type": "code",
   "execution_count": null,
   "metadata": {},
   "outputs": [],
   "source": [
    "# ## Rank by CLIP score\n",
    "\n",
    "# # CLIP model\n",
    "# CLIP_REPO = \"openai/clip-vit-base-patch32\"\n",
    "# CLIP_COMMIT_ID = None\n",
    "\n",
    "# # Load CLIP\n",
    "# clip, clip_params = FlaxCLIPModel.from_pretrained(\n",
    "#     CLIP_REPO, revision=CLIP_COMMIT_ID, dtype=jnp.float16, _do_init=False\n",
    "# )\n",
    "# clip_processor = CLIPProcessor.from_pretrained(CLIP_REPO, revision=CLIP_COMMIT_ID)\n",
    "# clip_params = replicate(clip_params)\n",
    "\n",
    "# # score images\n",
    "# @partial(jax.pmap, axis_name=\"batch\")\n",
    "# def p_clip(inputs, params):\n",
    "#     logits = clip(params=params, **inputs).logits_per_image\n",
    "#     return logits\n",
    "\n",
    "\n",
    "# from flax.training.common_utils import shard\n",
    "\n",
    "# # get clip scores\n",
    "# clip_inputs = clip_processor(\n",
    "#     text=prompts * jax.device_count(),\n",
    "#     images=images,\n",
    "#     return_tensors=\"np\",\n",
    "#     padding=\"max_length\",\n",
    "#     max_length=77,\n",
    "#     truncation=True,\n",
    "# ).data\n",
    "# logits = p_clip(shard(clip_inputs), clip_params)\n",
    "\n",
    "# # organize scores per prompt\n",
    "# p = len(prompts)\n",
    "# logits = np.asarray([logits[:, i::p, i] for i in range(p)]).squeeze()\n"
   ]
  },
  {
   "cell_type": "code",
   "execution_count": null,
   "metadata": {},
   "outputs": [],
   "source": [
    "# ## Display images ranked by clip score\n",
    "\n",
    "# for i, prompt in enumerate(prompts):\n",
    "#     print(f\"Prompt: {prompt}\\n\")\n",
    "#     for idx in logits[i].argsort()[::-1]:\n",
    "#         display(images[idx * p + i])\n",
    "#         print(f\"Score: {jnp.asarray(logits[i][idx], dtype=jnp.float32):.2f}\\n\")\n",
    "#     print()\n",
    "    "
   ]
  },
  {
   "cell_type": "code",
   "execution_count": null,
   "metadata": {},
   "outputs": [],
   "source": []
  },
  {
   "cell_type": "code",
   "execution_count": null,
   "metadata": {},
   "outputs": [],
   "source": []
  },
  {
   "cell_type": "code",
   "execution_count": null,
   "metadata": {},
   "outputs": [],
   "source": []
  },
  {
   "cell_type": "code",
   "execution_count": null,
   "metadata": {},
   "outputs": [],
   "source": []
  },
  {
   "cell_type": "code",
   "execution_count": null,
   "metadata": {},
   "outputs": [],
   "source": []
  },
  {
   "cell_type": "code",
   "execution_count": null,
   "metadata": {},
   "outputs": [],
   "source": []
  },
  {
   "cell_type": "code",
   "execution_count": null,
   "metadata": {},
   "outputs": [],
   "source": []
  },
  {
   "cell_type": "code",
   "execution_count": null,
   "metadata": {},
   "outputs": [],
   "source": []
  },
  {
   "cell_type": "code",
   "execution_count": null,
   "metadata": {},
   "outputs": [],
   "source": []
  },
  {
   "cell_type": "code",
   "execution_count": null,
   "metadata": {},
   "outputs": [],
   "source": []
  }
 ],
 "metadata": {
  "kernelspec": {
   "display_name": "Python 3",
   "language": "python",
   "name": "python3"
  },
  "language_info": {
   "codemirror_mode": {
    "name": "ipython",
    "version": 3
   },
   "file_extension": ".py",
   "mimetype": "text/x-python",
   "name": "python",
   "nbconvert_exporter": "python",
   "pygments_lexer": "ipython3",
   "version": "3.7.6"
  }
 },
 "nbformat": 4,
 "nbformat_minor": 4
}
